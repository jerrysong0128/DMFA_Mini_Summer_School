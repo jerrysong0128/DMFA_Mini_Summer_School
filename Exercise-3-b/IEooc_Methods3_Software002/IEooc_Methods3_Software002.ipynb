{
 "cells": [
  {
   "cell_type": "markdown",
   "id": "5a458f36",
   "metadata": {},
   "source": [
    "# IEooc Methods_3 Software_002"
   ]
  },
  {
   "cell_type": "markdown",
   "id": "5a8b4e15",
   "metadata": {},
   "source": [
    "## Scenarios for the transformation of the vehicle fleet in Freiburg (ctd.)\n",
    "\n",
    "In Freiburg, there were about 95000 passenger vehicles in 2022, which is about 400 vehicles per 1000 inhabitants (with a population of about 236000 people)\n",
    "https://www.freiburg.de/pb/1649864.html \n",
    "\n",
    "These emitted at total of about 300000 tons of CO2 in 2022.\n",
    "Source: Hertle and Gugel (2022). CO2-Bilanz Energie und Verkehr für die Stadt Freiburg bis 2020, ifeu Heidelberg.\n",
    "https://www.freiburg.de/pb/site/Freiburg/get/params_E548774210/2059583/Bericht_Klimabilanz_Freiburg_2019_2020.pdf \n",
    "(Total traffic emissions were at about 450000 tons, most of which (ca. 2/3) come from passenger vehicles.)"
   ]
  },
  {
   "cell_type": "markdown",
   "id": "fe548731",
   "metadata": {},
   "source": [
    "From the city's ambition to become 'climate neutral' by 2035 follows that the vehicle fleet must be transformed to low carbon alternatives. The purpose of this software is to model such a fleet transformation and estimate the potential impact of different emissions reduction strategies, such as vehicle fuel efficiency, a fuel shift to electric vehicles, and the use of a low carbon electricity mix.\n",
    "\n",
    "**This calculation exercise covers additional calculations on the the service provided, the stock, energy flow, and enery supply steps of the energy service cascade for passenger vehicles in Freiburg.\n",
    "It is a direct follow-up to Software workbook IEooc Methods_3 Software_001.**"
   ]
  },
  {
   "cell_type": "markdown",
   "id": "c8cfeae9",
   "metadata": {},
   "source": [
    "The data workbook *IEooc_Methods3_Software001_Data.xlsx* contains a number of parameters for the calculation.\n",
    "\n",
    "The core of the fleet model is a description of the future vehicle fleet (or stock) *S* by year *t* and age-cohort (or year of registration) *c*: *S(t,c)*. For the purpose of this exercise, the age-cohort structure of the stock and its total future size is given as input data. The stock grows from about 95000 vehicles in 2022 to about 108000 in 2035, about 113000 in 2050, and about 11600 in 2060. This increase reflects the expected future population growth.\n",
    "\n",
    "**Using the material from IEooc_Methods3_Software001 (data and code), calculate and interpret the following indicators/quantities:**"
   ]
  },
  {
   "cell_type": "markdown",
   "id": "30a2687b",
   "metadata": {},
   "source": [
    "### Task 1: For the given scenario, in the year 2035 (target for climate neutrality): How many percent of the vehicle fleet in 2035 are already on the road today (from age-cohorts of 2023 and earlier)?\n",
    "Calculate the relevant indicators using the Python code below and interpret your results!"
   ]
  },
  {
   "cell_type": "code",
   "execution_count": null,
   "id": "b8a7ce6e",
   "metadata": {},
   "outputs": [],
   "source": [
    "# First, import required libraries:\n",
    "import pandas as pd   # dataframe library, used for fast import/export from/to excel and for organizing the data.\n",
    "import numpy as np    # math library\n",
    "import matplotlib.pyplot as plt  # plotting library"
   ]
  },
  {
   "cell_type": "code",
   "execution_count": null,
   "id": "1e665f51",
   "metadata": {
    "scrolled": false
   },
   "outputs": [],
   "source": [
    "# hint: you can slice and sum a dimension of an array as shown below.\n",
    "\n",
    "# let's first create a table with numbers with a distinct pattern:\n",
    "test_array = np.ones((10,10)) # 10x10 matrix with only 1 as entry.\n",
    "print(test_array) # print on screen\n",
    "test_array_cs = test_array.cumsum(axis=1) # compute cumulative sum across columns\n",
    "print(test_array_cs)\n",
    "test_array_cs2 = test_array_cs.cumsum(axis=0) # compute cumulative sum across rows\n",
    "print(test_array_cs2)"
   ]
  },
  {
   "cell_type": "code",
   "execution_count": null,
   "id": "3f450c0c",
   "metadata": {},
   "outputs": [],
   "source": [
    "# Let us now slice the test array:\n",
    "print(test_array_cs2[5,:]) # print the sixth (!) row\n",
    "print(test_array_cs2[5,:].sum()) # print the sum of the sixth row \n",
    "print(test_array_cs2[5,0:4]) # print the first four elements of the sixth (!) row\n",
    "print(test_array_cs2[5,0:4].sum()) # print the sum of the first four elements of the sixth row \n",
    "print('')\n",
    "print(test_array_cs2[:,5]) # print the sixth (!) column\n",
    "print(test_array_cs2[:,5].sum()) # print the sum of the sixth column\n",
    "print(test_array_cs2[0:4,5]) # print the first four elements of the sixth (!) column\n",
    "print(test_array_cs2[0:4,5].sum()) # print the sum of the first four elements of the sixth column\n",
    "\n",
    "# Convert from excel data to pandas dataframe to numpy array as follows:\n",
    "df_fleet = pd.read_excel('IEooc_Methods3_Software001_Data.xlsx', sheet_name='Fleet', index_col=0)\n",
    "fleet = df_fleet.values"
   ]
  },
  {
   "cell_type": "code",
   "execution_count": null,
   "id": "cd00a95e",
   "metadata": {},
   "outputs": [],
   "source": [
    "# insert your code here"
   ]
  },
  {
   "cell_type": "markdown",
   "id": "75d060c3",
   "metadata": {},
   "source": [
    "Insert your interpretation here."
   ]
  },
  {
   "cell_type": "markdown",
   "id": "f42ef6af",
   "metadata": {},
   "source": [
    "### Task 2: How large is the service flow (in passenger-km/yr) provided by the vehicle fleet?\n",
    "Calculate and plot the result!"
   ]
  },
  {
   "cell_type": "code",
   "execution_count": null,
   "id": "6ef824d6",
   "metadata": {},
   "outputs": [],
   "source": [
    "# insert your code here"
   ]
  },
  {
   "cell_type": "markdown",
   "id": "a37cb189",
   "metadata": {},
   "source": [
    "Insert your interpretation here."
   ]
  },
  {
   "cell_type": "markdown",
   "id": "2d9a6a6c",
   "metadata": {},
   "source": [
    "### Task 3: In 2040, how many % of the passenger-km/yr are provided by vehicles that are 10 years old or older?\n",
    "\n",
    "Calculate and interpret the result!\n"
   ]
  },
  {
   "cell_type": "code",
   "execution_count": null,
   "id": "e4bcb172",
   "metadata": {},
   "outputs": [],
   "source": [
    "# insert your code here"
   ]
  },
  {
   "cell_type": "markdown",
   "id": "f7cd1641",
   "metadata": {},
   "source": [
    "Insert your interpretation here."
   ]
  },
  {
   "cell_type": "markdown",
   "id": "8c3465a9",
   "metadata": {},
   "source": [
    "### Task 4: Calculate and plot the share (%) of GHG emissions that are associated with electric vehicles (scope2) in the total GHG from the Freiburg vehicle fleet! \n",
    "\n",
    "Calculate and plot the result!"
   ]
  },
  {
   "cell_type": "code",
   "execution_count": null,
   "id": "f004a588",
   "metadata": {},
   "outputs": [],
   "source": [
    "# insert your code here"
   ]
  },
  {
   "cell_type": "markdown",
   "id": "b1110a08",
   "metadata": {},
   "source": [
    "Insert your interpretation here."
   ]
  },
  {
   "cell_type": "markdown",
   "id": "e60bc002",
   "metadata": {},
   "source": [
    "### Task 5: For the given scenario, in the year 2035 (target for climate neutrality): How many percent of the fleet-wide GHG in 2035 are caused by vehicles that are already on the road today (from age-cohorts of 2023 and earlier)?\n",
    "\n",
    "Calculate and interpret the result!"
   ]
  },
  {
   "cell_type": "code",
   "execution_count": null,
   "id": "429ec994",
   "metadata": {},
   "outputs": [],
   "source": [
    "# insert your code here"
   ]
  },
  {
   "cell_type": "markdown",
   "id": "e26036c1",
   "metadata": {},
   "source": [
    "Insert your interpretation here."
   ]
  }
 ],
 "metadata": {
  "kernelspec": {
   "display_name": "Python 3 (ipykernel)",
   "language": "python",
   "name": "python3"
  },
  "language_info": {
   "codemirror_mode": {
    "name": "ipython",
    "version": 3
   },
   "file_extension": ".py",
   "mimetype": "text/x-python",
   "name": "python",
   "nbconvert_exporter": "python",
   "pygments_lexer": "ipython3",
   "version": "3.11.4"
  }
 },
 "nbformat": 4,
 "nbformat_minor": 5
}
