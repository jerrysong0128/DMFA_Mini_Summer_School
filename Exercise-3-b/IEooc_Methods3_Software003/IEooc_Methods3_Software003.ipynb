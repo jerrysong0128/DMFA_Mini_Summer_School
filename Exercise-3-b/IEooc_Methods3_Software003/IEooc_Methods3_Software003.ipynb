{
 "cells": [
  {
   "cell_type": "markdown",
   "id": "5a458f36",
   "metadata": {},
   "source": [
    "# IEooc Methods_3 Software_003"
   ]
  },
  {
   "cell_type": "markdown",
   "id": "5a8b4e15",
   "metadata": {},
   "source": [
    "## Materials in the vehicle fleet in Freiburg\n",
    "\n",
    "Next to the use phase-related GHG emissions, the life cycle of vehicles contains large emissions and raw material input from the materials that are used to manufacture the vehicles. In this exercise, we estimate the material content of the entire fleet (current in-use stock is the future recycling potential), the material demand for new vehicles, the material outflow for recycling, and the related material and GHG footprints."
   ]
  },
  {
   "cell_type": "markdown",
   "id": "fe548731",
   "metadata": {},
   "source": [
    "**This calculation exercise covers calculations on the material stocks and flows, the recycling potential, and of the material supply steps of the energy service cascade for passenger vehicles in Freiburg.\n",
    "It is a follow-up to Software workbooks IEooc Methods_3 Software_001 and IEooc Methods_3 Software_002.**"
   ]
  },
  {
   "cell_type": "markdown",
   "id": "c8cfeae9",
   "metadata": {},
   "source": [
    "The data workbook *MIEooc_Methods3_Software001_Data.xlsx* contains a number of parameters for the calculation.\n",
    "\n",
    "The core of the fleet model is a description of the future vehicle fleet (or stock) *S* by year *t* and age-cohort (or year of registration) *c*: *S(t,c)*. For the purpose of this exercise, the age-cohort structure of the stock and its total future size is given as input data. The stock grows from about 95000 vehicles in 2022 to about 108000 in 2035, about 113000 in 2050, and about 11600 in 2060. This increase reflects the expected future population growth.\n",
    "\n",
    "**Using the material from IEooc Methods_3 Software_001 and 002 (data and code), calculate and interpret the following indicators/quantities:**"
   ]
  },
  {
   "cell_type": "markdown",
   "id": "30a2687b",
   "metadata": {},
   "source": [
    "### Task 1: For the given scenario, what are the time series for the inflow of new vehicles into the stock, and the outflow of old vehicles from the stock, and the stock (fleet size) itself?\n",
    "Calculate the relevant indicators using the Python code below and interpret your results!\n",
    "Split the stock into electric and gasoline vehicles as before.\n",
    "Determine first the time series for inflow, outflow, and fleet size from the given data."
   ]
  },
  {
   "cell_type": "code",
   "execution_count": 1,
   "id": "b8a7ce6e",
   "metadata": {},
   "outputs": [],
   "source": [
    "# First, import required libraries:\n",
    "import pandas as pd   # dataframe library, used for fast import/export from/to excel and for organizing the data.\n",
    "import numpy as np    # math library\n",
    "import matplotlib.pyplot as plt  # plotting library"
   ]
  },
  {
   "cell_type": "code",
   "execution_count": 2,
   "id": "cd00a95e",
   "metadata": {},
   "outputs": [
    {
     "ename": "NameError",
     "evalue": "name 'fleet_cT' is not defined",
     "output_type": "error",
     "traceback": [
      "\u001b[1;31m---------------------------------------------------------------------------\u001b[0m",
      "\u001b[1;31mNameError\u001b[0m                                 Traceback (most recent call last)",
      "\u001b[1;32m~\\AppData\\Local\\Temp\\ipykernel_2672\\1598520765.py\u001b[0m in \u001b[0;36m<module>\u001b[1;34m\u001b[0m\n\u001b[0;32m      5\u001b[0m \u001b[0mInflow_T\u001b[0m \u001b[1;33m=\u001b[0m \u001b[0mnp\u001b[0m\u001b[1;33m.\u001b[0m\u001b[0mzeros\u001b[0m\u001b[1;33m(\u001b[0m\u001b[1;33m(\u001b[0m\u001b[1;36m41\u001b[0m\u001b[1;33m,\u001b[0m\u001b[1;36m2\u001b[0m\u001b[1;33m)\u001b[0m\u001b[1;33m)\u001b[0m \u001b[1;31m# define empty table filled with 0s.\u001b[0m\u001b[1;33m\u001b[0m\u001b[1;33m\u001b[0m\u001b[0m\n\u001b[0;32m      6\u001b[0m \u001b[1;32mfor\u001b[0m \u001b[0mt\u001b[0m \u001b[1;32min\u001b[0m \u001b[0mrange\u001b[0m\u001b[1;33m(\u001b[0m\u001b[1;36m0\u001b[0m\u001b[1;33m,\u001b[0m\u001b[1;36m41\u001b[0m\u001b[1;33m)\u001b[0m\u001b[1;33m:\u001b[0m \u001b[1;31m# loop over 41 years\u001b[0m\u001b[1;33m\u001b[0m\u001b[1;33m\u001b[0m\u001b[0m\n\u001b[1;32m----> 7\u001b[1;33m     \u001b[0mInflow_T\u001b[0m\u001b[1;33m[\u001b[0m\u001b[0mt\u001b[0m\u001b[1;33m,\u001b[0m\u001b[1;33m:\u001b[0m\u001b[1;33m]\u001b[0m \u001b[1;33m=\u001b[0m \u001b[0mfleet_cT\u001b[0m\u001b[1;33m[\u001b[0m\u001b[0mt\u001b[0m\u001b[1;33m,\u001b[0m\u001b[0mt\u001b[0m\u001b[1;33m+\u001b[0m\u001b[1;36m18\u001b[0m\u001b[1;33m,\u001b[0m\u001b[1;33m:\u001b[0m\u001b[1;33m]\u001b[0m \u001b[1;31m# 18 years offset, because the age-cohort starts in 2002, while the time starts in 2020.\u001b[0m\u001b[1;33m\u001b[0m\u001b[1;33m\u001b[0m\u001b[0m\n\u001b[0m\u001b[0;32m      8\u001b[0m \u001b[1;33m\u001b[0m\u001b[0m\n\u001b[0;32m      9\u001b[0m \u001b[1;31m# To extract the outflow from a fleet table 'fleet_cT' with the three dimensions tcT, use the balance of the use phase:\u001b[0m\u001b[1;33m\u001b[0m\u001b[1;33m\u001b[0m\u001b[1;33m\u001b[0m\u001b[0m\n",
      "\u001b[1;31mNameError\u001b[0m: name 'fleet_cT' is not defined"
     ]
    }
   ],
   "source": [
    "# insert your code here\n",
    "\n",
    "# Tips:\n",
    "# To extract the inflow as diagonal of a fleet table 'fleet_cT' with the three dimensions tcT, use the following code:\n",
    "Inflow_T = np.zeros((41,2)) # define empty table filled with 0s.\n",
    "for t in range(0,41): # loop over 41 years\n",
    "    Inflow_T[t,:] = fleet_cT[t,t+18,:] # 18 years offset, because the age-cohort starts in 2002, while the time starts in 2020.\n",
    "    \n",
    "# To extract the outflow from a fleet table 'fleet_cT' with the three dimensions tcT, use the balance of the use phase:\n",
    "# outflow = inflow - stock change\n",
    "# Compute the stock change via:\n",
    "StockChange_cT = np.diff(fleet_cT,axis=0) # subtract stock from last year from stock in current year.\n",
    "StockChange_T  = np.einsum('tcT->tT',StockChange_cT) # sum up over all age-cohorts\n",
    "StockChange_T.shape\n",
    "# Note: Because the stock change is determined from one year to the next year, we have only 40 stock changes (time intervals) \n",
    "# given for the 41 time points. \n",
    "# The general convention is that stocks are measured at the end of each year (31.12.) and the inflow and outflow are reported\n",
    "# for the year that passed.\n",
    "# Hence, the stock balance equation and the resulting outflow are calculated from year 2021 onwards, which is the first year of our time series."
   ]
  },
  {
   "cell_type": "markdown",
   "id": "75d060c3",
   "metadata": {},
   "source": [
    "Insert your interpretation here."
   ]
  },
  {
   "cell_type": "markdown",
   "id": "f42ef6af",
   "metadata": {},
   "source": [
    "### Task 2: For the given scenario, what are the time series of steel, aluminium, copper, and plastics in the vehicle fleet (stock), the materials in the inflow of new vehicles into the stock, and the materials in the outflow of old vehicles from the stock?\n",
    "Calculate the relevant indicators using the Python code below and interpret your results!\n",
    "Split the stock into electric and gasoline vehicles as before.\n",
    "Determine first inflow, outflow, and fleet size from the given data (see task 1) and then multiply them with the given data on vehicle material composition for the different drive technologies!\n",
    "\n",
    "Plot the data in different plots: one for the stock, and two for inflwo and outflow of materials, or a combined one with inflow and outflow data."
   ]
  },
  {
   "cell_type": "code",
   "execution_count": null,
   "id": "6ef824d6",
   "metadata": {},
   "outputs": [],
   "source": [
    "# insert your code here"
   ]
  },
  {
   "cell_type": "markdown",
   "id": "a37cb189",
   "metadata": {},
   "source": [
    "Insert your interpretation here."
   ]
  },
  {
   "cell_type": "markdown",
   "id": "2d9a6a6c",
   "metadata": {},
   "source": [
    "### Task 3: With the given end-of-life recycling rates (Excel data workbook), how much of the material for the new vehicles could be sourced from old vehicles? How large would the 'recycled content' be in that case?\n",
    "\n",
    "Calculate and interpret the result!\n"
   ]
  },
  {
   "cell_type": "code",
   "execution_count": null,
   "id": "e4bcb172",
   "metadata": {},
   "outputs": [],
   "source": [
    "# We first load the recycling data and then multiply them to the time series:\n",
    "df_EoL_RR = pd.read_excel('IEooc_Methods3_Software001_Data.xlsx', sheet_name='Recovery_rates', index_col=0)\n",
    "EoL_RR = df_EoL_RR.values / 100 # convert to %\n",
    "# Note: EoL_RR comes with two scenarios. Fore task 3, we take the first one (current situation) and for task 4 (improved situation), the second column."
   ]
  },
  {
   "cell_type": "markdown",
   "id": "f7cd1641",
   "metadata": {},
   "source": [
    "Insert your interpretation here."
   ]
  },
  {
   "cell_type": "markdown",
   "id": "8c3465a9",
   "metadata": {},
   "source": [
    "### Task 4: Formulate a more ambitious recycling scenario for scrap recovery and recycling from vehicles! How does the recycled content change in that case? How plausible and feasible are your results?\n",
    "\n",
    "Calculate and plot the result!"
   ]
  },
  {
   "cell_type": "code",
   "execution_count": null,
   "id": "f004a588",
   "metadata": {},
   "outputs": [],
   "source": [
    "# insert your code here"
   ]
  },
  {
   "cell_type": "markdown",
   "id": "b1110a08",
   "metadata": {},
   "source": [
    "Insert your interpretation here."
   ]
  },
  {
   "cell_type": "markdown",
   "id": "3658a2d5",
   "metadata": {},
   "source": [
    "### Task 5: What are the GHG and raw material use (natural resource use) implications of the different recycling scenarios?\n",
    "\n",
    "Calculate and plot the result!\n",
    "\n",
    "First, read the impact data, which are given per material (primary or secondary), ImpPrimMat(m,I) and ImpSecMat(m,I), and which come with an impact dimension I."
   ]
  },
  {
   "cell_type": "code",
   "execution_count": null,
   "id": "cf444699",
   "metadata": {},
   "outputs": [],
   "source": [
    "# We first load the footprint data and then multiply them to the time series of material production:\n",
    "df_ImpPrimMat = pd.read_excel('IEooc_Methods3_Software001_Data.xlsx', sheet_name='Env_impacts_primary_materials', index_col=0)\n",
    "ImpPrimMat = df_ImpPrimMat.values\n",
    "\n",
    "Impdf_SecMat = pd.read_excel('IEooc_Methods3_Software001_Data.xlsx', sheet_name='Env_impacts_secondary_materials', index_col=0)\n",
    "ImpSecMat = df_ImpSecMat.values"
   ]
  },
  {
   "cell_type": "markdown",
   "id": "05b76881",
   "metadata": {},
   "source": [
    "Insert your interpretation here."
   ]
  }
 ],
 "metadata": {
  "kernelspec": {
   "display_name": "Python 3 (ipykernel)",
   "language": "python",
   "name": "python3"
  },
  "language_info": {
   "codemirror_mode": {
    "name": "ipython",
    "version": 3
   },
   "file_extension": ".py",
   "mimetype": "text/x-python",
   "name": "python",
   "nbconvert_exporter": "python",
   "pygments_lexer": "ipython3",
   "version": "3.7.3"
  }
 },
 "nbformat": 4,
 "nbformat_minor": 5
}
